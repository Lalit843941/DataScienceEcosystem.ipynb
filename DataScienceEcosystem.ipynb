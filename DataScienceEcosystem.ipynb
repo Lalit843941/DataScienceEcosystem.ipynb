{
 "cells": [
  {
   "cell_type": "markdown",
   "id": "fd36d148-1891-4808-93d4-cc2f94f52540",
   "metadata": {},
   "source": [
    "# Data Science Tools and Ecosystem"
   ]
  },
  {
   "cell_type": "markdown",
   "id": "ad0ac972-9642-48fd-80aa-9e0e624267bf",
   "metadata": {},
   "source": [
    "### In this notebook, Data Science Tools and Ecosystem are summarized."
   ]
  },
  {
   "cell_type": "markdown",
   "id": "abf0661f-fb75-474f-ac1c-f52c5921d0fd",
   "metadata": {},
   "source": [
    "#### Some of the popular languages that Data Scientists use are:"
   ]
  },
  {
   "cell_type": "markdown",
   "id": "6e7cee9f-8fd5-4d38-91dd-ffb432225ab3",
   "metadata": {},
   "source": [
    "1. Python\n",
    "2. SQL\n",
    "3. R"
   ]
  },
  {
   "cell_type": "markdown",
   "id": "785c090e-88d3-4755-8a4d-3096b11d9b8b",
   "metadata": {},
   "source": [
    "#### Some of the commonly used libraries used by Data Scientists include:"
   ]
  },
  {
   "cell_type": "markdown",
   "id": "7ef20564-f90e-4efe-b96d-14c3c56fbc21",
   "metadata": {},
   "source": [
    "1. Pandas\n",
    "2. Numpy\n",
    "3. Matplotlib\n",
    "4. Seaborn\n",
    "5. TensorFlow\n",
    "6. Keras"
   ]
  },
  {
   "cell_type": "markdown",
   "id": "9f75a4d4-6142-44a9-8b91-92a545638f2a",
   "metadata": {},
   "source": [
    "|**Data Science Tools**|\n",
    "|----------------------|\n",
    "|Jupyter Notebook|\n",
    "|RStudio|\n",
    "|Git|"
   ]
  },
  {
   "cell_type": "markdown",
   "id": "087bc8ce-fbdb-49a3-bdbc-228b7abb8785",
   "metadata": {},
   "source": [
    "### Below are a few examples of evaluating arithmetic expressions in Python\n"
   ]
  },
  {
   "cell_type": "code",
   "execution_count": 1,
   "id": "13242b24-1c06-49e4-9b2b-9aead54fbe4e",
   "metadata": {},
   "outputs": [
    {
     "data": {
      "text/plain": [
       "17"
      ]
     },
     "execution_count": 1,
     "metadata": {},
     "output_type": "execute_result"
    }
   ],
   "source": [
    "#This a simple arithmetic expression to mutiply then add integers\n",
    "(3*4)+5"
   ]
  },
  {
   "cell_type": "code",
   "execution_count": 2,
   "id": "d8159197-1cca-4657-a32b-82ae17498663",
   "metadata": {},
   "outputs": [
    {
     "data": {
      "text/plain": [
       "3.3333333333333335"
      ]
     },
     "execution_count": 2,
     "metadata": {},
     "output_type": "execute_result"
    }
   ],
   "source": [
    "#This will convert 200 minutes to hours by diving by 60\n",
    "200/60"
   ]
  },
  {
   "cell_type": "markdown",
   "id": "a32e3b2d-82eb-43d9-b695-755e24879b90",
   "metadata": {},
   "source": [
    "##### Objectives:"
   ]
  },
  {
   "cell_type": "markdown",
   "id": "6272b1c7-6ec6-4fa2-a375-b845aef5984f",
   "metadata": {},
   "source": [
    "- List popular languages for Data Science\n",
    "- Show simple arithmetic expressions to multiply then add\n",
    "- Demonstrate how to convert minutes into hours\n",
    "- Summarize the Data Science tools"
   ]
  },
  {
   "cell_type": "markdown",
   "id": "a76c8010-9743-467f-91c8-7a276ea40948",
   "metadata": {},
   "source": [
    "## Author\n",
    "Lalit"
   ]
  },
  {
   "cell_type": "code",
   "execution_count": null,
   "id": "9fc63175-eebb-40db-8849-dfbf97069411",
   "metadata": {},
   "outputs": [],
   "source": []
  }
 ],
 "metadata": {
  "kernelspec": {
   "display_name": "Python 3 (ipykernel)",
   "language": "python",
   "name": "python3"
  },
  "language_info": {
   "codemirror_mode": {
    "name": "ipython",
    "version": 3
   },
   "file_extension": ".py",
   "mimetype": "text/x-python",
   "name": "python",
   "nbconvert_exporter": "python",
   "pygments_lexer": "ipython3",
   "version": "3.13.5"
  }
 },
 "nbformat": 4,
 "nbformat_minor": 5
}
